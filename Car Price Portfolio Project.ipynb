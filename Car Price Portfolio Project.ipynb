{
 "cells": [
  {
   "cell_type": "markdown",
   "id": "4e0bc1cf",
   "metadata": {},
   "source": [
    "# <center>Car Price Portfolio Project</center>"
   ]
  },
  {
   "cell_type": "markdown",
   "id": "b9db4be4",
   "metadata": {},
   "source": [
    "<div style=\"text-align: justify\"> Cars are one of the transportation that people have. Some people buy cars for daily usage. Some people buy cars because they have good memories from the past. Some even bought a car to complete their collection.\n",
    "It takes a lot of thought to buy a car, for example, the price. \"What's the right price for a car?\" To answer this question, I helped by building a machine-learning model that predicts a car's price. </div>"
   ]
  },
  {
   "cell_type": "markdown",
   "id": "cd999ed7",
   "metadata": {},
   "source": [
    "<h2><center>Data Profiling</center></h2>"
   ]
  },
  {
   "cell_type": "markdown",
   "id": "495d5c86",
   "metadata": {},
   "source": [
    "__What’s data profiling?__\n",
    "<br>\n",
    "_Data Profiling is summarizing data using descriptive statistics. Creating data profiling aims to have a strong understanding of data to compile framework analysis and visualize data._"
   ]
  },
  {
   "cell_type": "markdown",
   "id": "6bc71844",
   "metadata": {},
   "source": [
    "<h3><center>Importing Library</center></h3>"
   ]
  },
  {
   "cell_type": "code",
   "execution_count": 437,
   "id": "1484a101",
   "metadata": {},
   "outputs": [],
   "source": [
    "import pandas as pd\n",
    "import numpy as np\n",
    "import seaborn as sns\n",
    "import matplotlib.pyplot as plt"
   ]
  },
  {
   "cell_type": "markdown",
   "id": "15c54e47",
   "metadata": {},
   "source": [
    "<h3><center>Importing Data</center></h3>"
   ]
  },
  {
   "cell_type": "code",
   "execution_count": 438,
   "id": "3805e892",
   "metadata": {},
   "outputs": [
    {
     "data": {
      "text/html": [
       "<div>\n",
       "<style scoped>\n",
       "    .dataframe tbody tr th:only-of-type {\n",
       "        vertical-align: middle;\n",
       "    }\n",
       "\n",
       "    .dataframe tbody tr th {\n",
       "        vertical-align: top;\n",
       "    }\n",
       "\n",
       "    .dataframe thead th {\n",
       "        text-align: right;\n",
       "    }\n",
       "</style>\n",
       "<table border=\"1\" class=\"dataframe\">\n",
       "  <thead>\n",
       "    <tr style=\"text-align: right;\">\n",
       "      <th></th>\n",
       "      <th>Make</th>\n",
       "      <th>Model</th>\n",
       "      <th>Year</th>\n",
       "      <th>Engine Fuel Type</th>\n",
       "      <th>Engine HP</th>\n",
       "      <th>Engine Cylinders</th>\n",
       "      <th>Transmission Type</th>\n",
       "      <th>Driven_Wheels</th>\n",
       "      <th>Number of Doors</th>\n",
       "      <th>Market Category</th>\n",
       "      <th>Vehicle Size</th>\n",
       "      <th>Vehicle Style</th>\n",
       "      <th>highway MPG</th>\n",
       "      <th>city mpg</th>\n",
       "      <th>Popularity</th>\n",
       "      <th>MSRP</th>\n",
       "    </tr>\n",
       "  </thead>\n",
       "  <tbody>\n",
       "    <tr>\n",
       "      <th>0</th>\n",
       "      <td>BMW</td>\n",
       "      <td>1 Series M</td>\n",
       "      <td>2011</td>\n",
       "      <td>premium unleaded (required)</td>\n",
       "      <td>335.0</td>\n",
       "      <td>6.0</td>\n",
       "      <td>MANUAL</td>\n",
       "      <td>rear wheel drive</td>\n",
       "      <td>2.0</td>\n",
       "      <td>Factory Tuner,Luxury,High-Performance</td>\n",
       "      <td>Compact</td>\n",
       "      <td>Coupe</td>\n",
       "      <td>26</td>\n",
       "      <td>19</td>\n",
       "      <td>3916</td>\n",
       "      <td>46135</td>\n",
       "    </tr>\n",
       "    <tr>\n",
       "      <th>1</th>\n",
       "      <td>BMW</td>\n",
       "      <td>1 Series</td>\n",
       "      <td>2011</td>\n",
       "      <td>premium unleaded (required)</td>\n",
       "      <td>300.0</td>\n",
       "      <td>6.0</td>\n",
       "      <td>MANUAL</td>\n",
       "      <td>rear wheel drive</td>\n",
       "      <td>2.0</td>\n",
       "      <td>Luxury,Performance</td>\n",
       "      <td>Compact</td>\n",
       "      <td>Convertible</td>\n",
       "      <td>28</td>\n",
       "      <td>19</td>\n",
       "      <td>3916</td>\n",
       "      <td>40650</td>\n",
       "    </tr>\n",
       "    <tr>\n",
       "      <th>2</th>\n",
       "      <td>BMW</td>\n",
       "      <td>1 Series</td>\n",
       "      <td>2011</td>\n",
       "      <td>premium unleaded (required)</td>\n",
       "      <td>300.0</td>\n",
       "      <td>6.0</td>\n",
       "      <td>MANUAL</td>\n",
       "      <td>rear wheel drive</td>\n",
       "      <td>2.0</td>\n",
       "      <td>Luxury,High-Performance</td>\n",
       "      <td>Compact</td>\n",
       "      <td>Coupe</td>\n",
       "      <td>28</td>\n",
       "      <td>20</td>\n",
       "      <td>3916</td>\n",
       "      <td>36350</td>\n",
       "    </tr>\n",
       "    <tr>\n",
       "      <th>3</th>\n",
       "      <td>BMW</td>\n",
       "      <td>1 Series</td>\n",
       "      <td>2011</td>\n",
       "      <td>premium unleaded (required)</td>\n",
       "      <td>230.0</td>\n",
       "      <td>6.0</td>\n",
       "      <td>MANUAL</td>\n",
       "      <td>rear wheel drive</td>\n",
       "      <td>2.0</td>\n",
       "      <td>Luxury,Performance</td>\n",
       "      <td>Compact</td>\n",
       "      <td>Coupe</td>\n",
       "      <td>28</td>\n",
       "      <td>18</td>\n",
       "      <td>3916</td>\n",
       "      <td>29450</td>\n",
       "    </tr>\n",
       "    <tr>\n",
       "      <th>4</th>\n",
       "      <td>BMW</td>\n",
       "      <td>1 Series</td>\n",
       "      <td>2011</td>\n",
       "      <td>premium unleaded (required)</td>\n",
       "      <td>230.0</td>\n",
       "      <td>6.0</td>\n",
       "      <td>MANUAL</td>\n",
       "      <td>rear wheel drive</td>\n",
       "      <td>2.0</td>\n",
       "      <td>Luxury</td>\n",
       "      <td>Compact</td>\n",
       "      <td>Convertible</td>\n",
       "      <td>28</td>\n",
       "      <td>18</td>\n",
       "      <td>3916</td>\n",
       "      <td>34500</td>\n",
       "    </tr>\n",
       "  </tbody>\n",
       "</table>\n",
       "</div>"
      ],
      "text/plain": [
       "  Make       Model  Year             Engine Fuel Type  Engine HP  \\\n",
       "0  BMW  1 Series M  2011  premium unleaded (required)      335.0   \n",
       "1  BMW    1 Series  2011  premium unleaded (required)      300.0   \n",
       "2  BMW    1 Series  2011  premium unleaded (required)      300.0   \n",
       "3  BMW    1 Series  2011  premium unleaded (required)      230.0   \n",
       "4  BMW    1 Series  2011  premium unleaded (required)      230.0   \n",
       "\n",
       "   Engine Cylinders Transmission Type     Driven_Wheels  Number of Doors  \\\n",
       "0               6.0            MANUAL  rear wheel drive              2.0   \n",
       "1               6.0            MANUAL  rear wheel drive              2.0   \n",
       "2               6.0            MANUAL  rear wheel drive              2.0   \n",
       "3               6.0            MANUAL  rear wheel drive              2.0   \n",
       "4               6.0            MANUAL  rear wheel drive              2.0   \n",
       "\n",
       "                         Market Category Vehicle Size Vehicle Style  \\\n",
       "0  Factory Tuner,Luxury,High-Performance      Compact         Coupe   \n",
       "1                     Luxury,Performance      Compact   Convertible   \n",
       "2                Luxury,High-Performance      Compact         Coupe   \n",
       "3                     Luxury,Performance      Compact         Coupe   \n",
       "4                                 Luxury      Compact   Convertible   \n",
       "\n",
       "   highway MPG  city mpg  Popularity   MSRP  \n",
       "0           26        19        3916  46135  \n",
       "1           28        19        3916  40650  \n",
       "2           28        20        3916  36350  \n",
       "3           28        18        3916  29450  \n",
       "4           28        18        3916  34500  "
      ]
     },
     "execution_count": 438,
     "metadata": {},
     "output_type": "execute_result"
    }
   ],
   "source": [
    "df = pd.read_csv('CarPrice.csv')\n",
    "df.head()"
   ]
  },
  {
   "cell_type": "markdown",
   "id": "fca0939e",
   "metadata": {},
   "source": [
    "The first step is initializing the library, importing the dataset into python using **Pandas**, and assigning it as **df**. The data will be saved as **‘CarPrice.csv’**."
   ]
  },
  {
   "cell_type": "markdown",
   "id": "220d174c",
   "metadata": {},
   "source": [
    "<h3><center>Showing The Length of The Data</center></h3>"
   ]
  },
  {
   "cell_type": "code",
   "execution_count": 439,
   "id": "a4cbe4db",
   "metadata": {},
   "outputs": [
    {
     "name": "stdout",
     "output_type": "stream",
     "text": [
      "The Length of The Data:  11914\n"
     ]
    }
   ],
   "source": [
    "print(\"The Length of The Data: \", len(df))"
   ]
  },
  {
   "cell_type": "markdown",
   "id": "de2cf088",
   "metadata": {},
   "source": [
    "The second step is to **display how much data on the dataset** using **len()**. The result is the size of this data is **11914**."
   ]
  },
  {
   "cell_type": "markdown",
   "id": "32cc96e0",
   "metadata": {},
   "source": [
    "<h3><center>Showing The Shape of The Data</center></h3>"
   ]
  },
  {
   "cell_type": "code",
   "execution_count": 440,
   "id": "03e01bb9",
   "metadata": {},
   "outputs": [
    {
     "name": "stdout",
     "output_type": "stream",
     "text": [
      "The Shape of The Data:  (11914, 16)\n"
     ]
    }
   ],
   "source": [
    "print(\"The Shape of The Data: \", df.shape)"
   ]
  },
  {
   "cell_type": "markdown",
   "id": "6fa6853d",
   "metadata": {},
   "source": [
    "The third step is to **display how many rows and columns in the data** use **.shape**. The result is this data has **11914 rows and 16 columns**."
   ]
  },
  {
   "cell_type": "markdown",
   "id": "19d73a7a",
   "metadata": {},
   "source": [
    "<h3><center>Showing The Information of The Data</center></h3>"
   ]
  },
  {
   "cell_type": "code",
   "execution_count": 441,
   "id": "31275dbd",
   "metadata": {},
   "outputs": [
    {
     "name": "stdout",
     "output_type": "stream",
     "text": [
      "<class 'pandas.core.frame.DataFrame'>\n",
      "RangeIndex: 11914 entries, 0 to 11913\n",
      "Data columns (total 16 columns):\n",
      " #   Column             Non-Null Count  Dtype  \n",
      "---  ------             --------------  -----  \n",
      " 0   Make               11914 non-null  object \n",
      " 1   Model              11914 non-null  object \n",
      " 2   Year               11914 non-null  int64  \n",
      " 3   Engine Fuel Type   11911 non-null  object \n",
      " 4   Engine HP          11845 non-null  float64\n",
      " 5   Engine Cylinders   11884 non-null  float64\n",
      " 6   Transmission Type  11914 non-null  object \n",
      " 7   Driven_Wheels      11914 non-null  object \n",
      " 8   Number of Doors    11908 non-null  float64\n",
      " 9   Market Category    8172 non-null   object \n",
      " 10  Vehicle Size       11914 non-null  object \n",
      " 11  Vehicle Style      11914 non-null  object \n",
      " 12  highway MPG        11914 non-null  int64  \n",
      " 13  city mpg           11914 non-null  int64  \n",
      " 14  Popularity         11914 non-null  int64  \n",
      " 15  MSRP               11914 non-null  int64  \n",
      "dtypes: float64(3), int64(5), object(8)\n",
      "memory usage: 1.5+ MB\n",
      "The Information of The Data: \n",
      " None\n"
     ]
    }
   ],
   "source": [
    "print(\"The Information of The Data: \\n\", df.info())"
   ]
  },
  {
   "cell_type": "markdown",
   "id": "32bbedd0",
   "metadata": {},
   "source": [
    "The fourth step is to **get information from the data about what kind of type for each column** using the **.info()**. As you can see, there are three types of data: **object, int64, and float64**."
   ]
  },
  {
   "cell_type": "markdown",
   "id": "60952e59",
   "metadata": {},
   "source": [
    "<h3><center>Showing The Unique Data</center></h3>"
   ]
  },
  {
   "cell_type": "code",
   "execution_count": 442,
   "id": "3f9db612",
   "metadata": {},
   "outputs": [
    {
     "name": "stdout",
     "output_type": "stream",
     "text": [
      "The The Unique Data:\n",
      " Make                   48\n",
      "Model                 915\n",
      "Year                   28\n",
      "Engine Fuel Type       10\n",
      "Engine HP             356\n",
      "Engine Cylinders        9\n",
      "Transmission Type       5\n",
      "Driven_Wheels           4\n",
      "Number of Doors         3\n",
      "Market Category        71\n",
      "Vehicle Size            3\n",
      "Vehicle Style          16\n",
      "highway MPG            59\n",
      "city mpg               69\n",
      "Popularity             48\n",
      "MSRP                 6049\n",
      "dtype: int64\n"
     ]
    }
   ],
   "source": [
    "print(\"The The Unique Data:\\n\", df.nunique())"
   ]
  },
  {
   "cell_type": "markdown",
   "id": "e26aeb65",
   "metadata": {},
   "source": [
    "The fifth step of data profiling is **displaying unique data from each column** using the function **.nunique()**."
   ]
  },
  {
   "cell_type": "markdown",
   "id": "b696734a",
   "metadata": {},
   "source": [
    "<h3><center>Changing The Column's Name</center></h3>"
   ]
  },
  {
   "cell_type": "markdown",
   "id": "a7a8437a",
   "metadata": {},
   "source": [
    "As shown in **Showing The Information of The Data**, the column's name on the dataset is ambiguous. For example, the MSRP column contains the price of a car. Therefore I'm going to change the column's title."
   ]
  },
  {
   "cell_type": "code",
   "execution_count": 443,
   "id": "d6a264c6",
   "metadata": {},
   "outputs": [],
   "source": [
    "df.rename(columns ={'MSRP': 'Price',\n",
    "                    'Make': 'Car Brand',\n",
    "                    'Engine HP': 'Engine Horse Power',\n",
    "                    'Driven_Wheels':'Driven Mode',\n",
    "                    'highway MPG':'KML-H',\n",
    "                    'city mpg':'KML-C'}, inplace=True)"
   ]
  },
  {
   "cell_type": "markdown",
   "id": "031ba11e",
   "metadata": {},
   "source": [
    "<h2><center>Data Cleansing</center></h2>"
   ]
  },
  {
   "cell_type": "markdown",
   "id": "eab61054",
   "metadata": {},
   "source": [
    "After data profiling, I'll do data cleansing. **What's data cleansing?**\n",
    "<br>\n",
    "*Data cleansing is identifying incorrect, incomplete, inaccurate, irrelevant, or missing data and then modifying, replacing, or deleting them according to the need.*"
   ]
  },
  {
   "cell_type": "markdown",
   "id": "628b37e0",
   "metadata": {},
   "source": [
    "<h3><center>Checking The Missing Value in The Car Brand Column</center></h3>"
   ]
  },
  {
   "cell_type": "code",
   "execution_count": 444,
   "id": "fdf8f605",
   "metadata": {},
   "outputs": [
    {
     "name": "stdout",
     "output_type": "stream",
     "text": [
      "There is no missing values in this column.\n"
     ]
    }
   ],
   "source": [
    "missing_value_Car_Brand = df[\"Car Brand\"].isnull().sum()\n",
    "if missing_value_Car_Brand > 0:\n",
    "    print(\"There are \" + str(missing_value_Car_Brand) + \" missing values in this column.\")\n",
    "else:\n",
    "    print(\"There is no missing values in this column.\")"
   ]
  },
  {
   "cell_type": "markdown",
   "id": "f62b0367",
   "metadata": {},
   "source": [
    "<h3><center>Checking The Missing Value in The Model Column</center></h3>"
   ]
  },
  {
   "cell_type": "code",
   "execution_count": 445,
   "id": "70836ac5",
   "metadata": {},
   "outputs": [
    {
     "name": "stdout",
     "output_type": "stream",
     "text": [
      "There is no missing values in this column.\n"
     ]
    }
   ],
   "source": [
    "missing_value_Model = df[\"Model\"].isnull().sum()\n",
    "if missing_value_Model > 0:\n",
    "    print(\"There are \" + str(missing_value_Model) + \" missing values in this column.\")\n",
    "else:\n",
    "    print(\"There is no missing values in this column.\")"
   ]
  },
  {
   "cell_type": "markdown",
   "id": "bc4ca3d8",
   "metadata": {},
   "source": [
    "<h3><center>Checking The Missing Value in The Year Column</center></h3>"
   ]
  },
  {
   "cell_type": "code",
   "execution_count": 446,
   "id": "73f4411b",
   "metadata": {},
   "outputs": [
    {
     "name": "stdout",
     "output_type": "stream",
     "text": [
      "There is no missing values in this column.\n"
     ]
    }
   ],
   "source": [
    "missing_value_Year = df[\"Year\"].isnull().sum()\n",
    "if missing_value_Year > 0:\n",
    "    print(\"There are \" + str(missing_value_Year) + \" missing values in this column.\")\n",
    "else:\n",
    "    print(\"There is no missing values in this column.\")"
   ]
  },
  {
   "cell_type": "markdown",
   "id": "11758e37",
   "metadata": {},
   "source": [
    "<h3><center>Checking The Missing Value in The Engine Fuel Type Column</center></h3>"
   ]
  },
  {
   "cell_type": "code",
   "execution_count": 447,
   "id": "480547a7",
   "metadata": {},
   "outputs": [
    {
     "name": "stdout",
     "output_type": "stream",
     "text": [
      "There are 3 missing values in this column.\n"
     ]
    }
   ],
   "source": [
    "missing_value_Engine_Fuel_Type = df[\"Engine Fuel Type\"].isnull().sum()\n",
    "if missing_value_Engine_Fuel_Type > 0:\n",
    "    print(\"There are \" + str(missing_value_Engine_Fuel_Type) + \" missing values in this column.\")\n",
    "else:\n",
    "    print(\"There is no missing values in this column.\")"
   ]
  },
  {
   "cell_type": "code",
   "execution_count": 448,
   "id": "6d74021c",
   "metadata": {},
   "outputs": [
    {
     "name": "stdout",
     "output_type": "stream",
     "text": [
      "Here is the data that has a NaN value in the Engine Fuel Type Column:\n"
     ]
    },
    {
     "data": {
      "text/plain": [
       "Car Brand  Model \n",
       "Suzuki     Verona    3\n",
       "dtype: int64"
      ]
     },
     "execution_count": 448,
     "metadata": {},
     "output_type": "execute_result"
    }
   ],
   "source": [
    "print(\"Here is the data that has a NaN value in the Engine Fuel Type Column:\")\n",
    "df_null_Engine_Fuel_Type = df.loc[df[\"Engine Fuel Type\"].isnull()]\n",
    "df_null_Engine_Fuel_Type.groupby([\"Car Brand\", \"Model\"]).size()"
   ]
  },
  {
   "cell_type": "markdown",
   "id": "cf822960",
   "metadata": {},
   "source": [
    "The car with the missing value is **Suzuki Verona**. Suzuki Verona uses a **regular unleaded**. So I’m gonna turn this missing value into a ‘regular_unleaded’."
   ]
  },
  {
   "cell_type": "code",
   "execution_count": 449,
   "id": "57dea6ac",
   "metadata": {},
   "outputs": [
    {
     "name": "stdout",
     "output_type": "stream",
     "text": [
      "After handling the missing values in this column, there is no missing values in this column.\n"
     ]
    }
   ],
   "source": [
    "df[\"Engine Fuel Type\"] = np.where((df[\"Engine Fuel Type\"].isnull()) & \n",
    "                                  (df[\"Car Brand\"] == \"Suzuki\") & \n",
    "                                  (df['Model'] == 'Verona') & \n",
    "                                  (df['Year'] == 2004), 'regular unleaded', df[\"Engine Fuel Type\"])\n",
    "\n",
    "checking_again_missing_value_Engine_Fuel_Type = df[\"Engine Fuel Type\"].isnull().sum()\n",
    "if checking_again_missing_value_Engine_Fuel_Type > 0:\n",
    "    print(\"There still are \" + str(checking_again_missing_value_Engine_Fuel_Type) + \" missing values in this column.\")\n",
    "print(\"After handling the missing values in this column, there is no missing values in this column.\")"
   ]
  },
  {
   "cell_type": "markdown",
   "id": "53fabfbf",
   "metadata": {},
   "source": [
    "<h3><center>Checking The Missing Value in The Engine Horse Power Column</center></h3>"
   ]
  },
  {
   "cell_type": "code",
   "execution_count": 450,
   "id": "e5872276",
   "metadata": {},
   "outputs": [
    {
     "name": "stdout",
     "output_type": "stream",
     "text": [
      "There are 69 missing values in this column.\n"
     ]
    }
   ],
   "source": [
    "missing_value_Engine_Horse_Power = df[\"Engine Horse Power\"].isnull().sum()\n",
    "if missing_value_Engine_Horse_Power > 0:\n",
    "    print(\"There are \" + str(missing_value_Engine_Horse_Power) + \" missing values in this column.\")\n",
    "else:\n",
    "    print(\"There is no missing values in this column.\")"
   ]
  },
  {
   "cell_type": "code",
   "execution_count": 451,
   "id": "1bcd5fb5",
   "metadata": {},
   "outputs": [
    {
     "name": "stdout",
     "output_type": "stream",
     "text": [
      "Here is the data that has a NaN value in the Engine Horse Power Column:\n"
     ]
    },
    {
     "data": {
      "text/plain": [
       "Car Brand      Model      \n",
       "Chevrolet      Impala          6\n",
       "FIAT           500e            3\n",
       "Ford           Escape          4\n",
       "               Focus           3\n",
       "               Freestar        6\n",
       "Honda          Fit EV          2\n",
       "Kia            Soul EV         5\n",
       "Lincoln        Continental     4\n",
       "               MKZ             4\n",
       "Mercedes-Benz  M-Class         1\n",
       "Mitsubishi     i-MiEV          1\n",
       "Nissan         Leaf           10\n",
       "Tesla          Model S        18\n",
       "Toyota         RAV4 EV         2\n",
       "dtype: int64"
      ]
     },
     "execution_count": 451,
     "metadata": {},
     "output_type": "execute_result"
    }
   ],
   "source": [
    "print(\"Here is the data that has a NaN value in the Engine Horse Power Column:\")\n",
    "df_null_Engine_Horse_Power = df.loc[df[\"Engine Horse Power\"].isnull()]\n",
    "df_null_Engine_Horse_Power.groupby([\"Car Brand\", \"Model\"]).size()"
   ]
  },
  {
   "cell_type": "markdown",
   "id": "91716632",
   "metadata": {},
   "source": [
    "The car with the missing values already mentioned above has a horsepower (HP) as follows:\n",
    "- Chevrolet Impala's horsepower is 305\n",
    "- FIAT 500e's horsepower is 111\n",
    "- Ford Escape's horsepower is 179\n",
    "- Ford Focus's horsepower is 160\n",
    "- Ford Freestar's horsepower is 201\n",
    "- Honda Fit EV's horsepower is 123\n",
    "- KIA Soul EV's horsepower is 109\n",
    "- Lincoln Continental's horsepower is 305\n",
    "- Lincoln MKZ's horsepower is 245\n",
    "- Mercedes-Benz M-Class's horsepower is 200.\n",
    "- Mitsubishi i-MiEV's horsepower is 66\n",
    "- Nissan Leaf's horsepower is 150\n",
    "- Tesla Model S's horsepower is 1020\n",
    "- Toyota RAV4 EV's horsepower is 154"
   ]
  },
  {
   "cell_type": "code",
   "execution_count": 452,
   "id": "0cc3a49d",
   "metadata": {},
   "outputs": [
    {
     "name": "stdout",
     "output_type": "stream",
     "text": [
      "After handling the missing values in this column, there is no missing values in this column.\n"
     ]
    }
   ],
   "source": [
    "df[\"Engine Horse Power\"] = np.where((df[\"Engine Horse Power\"].isnull()) & \n",
    "                                  (df[\"Car Brand\"] == \"Chevrolet\") & \n",
    "                                  (df['Model'] == 'Impala'), 305, df[\"Engine Horse Power\"])\n",
    "\n",
    "df[\"Engine Horse Power\"] = np.where((df[\"Engine Horse Power\"].isnull()) & \n",
    "                                  (df[\"Car Brand\"] == \"FIAT\") & \n",
    "                                  (df['Model'] == '500e'), 111, df[\"Engine Horse Power\"])\n",
    "\n",
    "df[\"Engine Horse Power\"] = np.where((df[\"Engine Horse Power\"].isnull()) & \n",
    "                                  (df[\"Car Brand\"] == \"Ford\") & \n",
    "                                  (df['Model'] == 'Escape'), 179, df[\"Engine Horse Power\"])\n",
    "\n",
    "df[\"Engine Horse Power\"] = np.where((df[\"Engine Horse Power\"].isnull()) & \n",
    "                                  (df[\"Car Brand\"] == \"Ford\") & \n",
    "                                  (df['Model'] == 'Focus'), 160, df[\"Engine Horse Power\"])\n",
    "\n",
    "df[\"Engine Horse Power\"] = np.where((df[\"Engine Horse Power\"].isnull()) & \n",
    "                                  (df[\"Car Brand\"] == \"Ford\") & \n",
    "                                  (df['Model'] == 'Freestar'), 201, df[\"Engine Horse Power\"])\n",
    "\n",
    "df[\"Engine Horse Power\"] = np.where((df[\"Engine Horse Power\"].isnull()) & \n",
    "                                  (df[\"Car Brand\"] == \"Honda\") & \n",
    "                                  (df['Model'] == 'Fit EV'), 123, df[\"Engine Horse Power\"])\n",
    "\n",
    "df[\"Engine Horse Power\"] = np.where((df[\"Engine Horse Power\"].isnull()) & \n",
    "                                  (df[\"Car Brand\"] == \"Kia\") & \n",
    "                                  (df['Model'] == 'Soul EV'), 109, df[\"Engine Horse Power\"])\n",
    "\n",
    "df[\"Engine Horse Power\"] = np.where((df[\"Engine Horse Power\"].isnull()) & \n",
    "                                  (df[\"Car Brand\"] == \"Lincoln\") & \n",
    "                                  (df['Model'] == 'Continental'), 305, df[\"Engine Horse Power\"])\n",
    "\n",
    "df[\"Engine Horse Power\"] = np.where((df[\"Engine Horse Power\"].isnull()) & \n",
    "                                  (df[\"Car Brand\"] == \"Lincoln\") & \n",
    "                                  (df['Model'] == 'MKZ'), 245, df[\"Engine Horse Power\"])\n",
    "\n",
    "df[\"Engine Horse Power\"] = np.where((df[\"Engine Horse Power\"].isnull()) & \n",
    "                                  (df[\"Car Brand\"] == \"Mercedes-Benz\") & \n",
    "                                  (df['Model'] == 'M-Class'), 200, df[\"Engine Horse Power\"])\n",
    "\n",
    "df[\"Engine Horse Power\"] = np.where((df[\"Engine Horse Power\"].isnull()) & \n",
    "                                  (df[\"Car Brand\"] == \"Mitsubishi\") & \n",
    "                                  (df['Model'] == 'i-MiEV'), 66, df[\"Engine Horse Power\"])\n",
    "\n",
    "df[\"Engine Horse Power\"] = np.where((df[\"Engine Horse Power\"].isnull()) & \n",
    "                                  (df[\"Car Brand\"] == \"Nissan\") & \n",
    "                                  (df['Model'] == 'Leaf'), 150, df[\"Engine Horse Power\"])\n",
    "\n",
    "df[\"Engine Horse Power\"] = np.where((df[\"Engine Horse Power\"].isnull()) & \n",
    "                                  (df[\"Car Brand\"] == \"Tesla\") & \n",
    "                                  (df['Model'] == 'Model S'), 1020, df[\"Engine Horse Power\"])\n",
    "\n",
    "df[\"Engine Horse Power\"] = np.where((df[\"Engine Horse Power\"].isnull()) & \n",
    "                                  (df[\"Car Brand\"] == \"Toyota\") & \n",
    "                                  (df['Model'] == 'RAV4 EV'), 154, df[\"Engine Horse Power\"])\n",
    "\n",
    "\n",
    "checking_again_missing_value_Engine_Horse_Power = df[\"Engine Horse Power\"].isnull().sum()\n",
    "if checking_again_missing_value_Engine_Horse_Power > 0:\n",
    "    print(\"There still are \" + str(checking_again_missing_value_Engine_Horse_Power) + \" missing values in this column.\")\n",
    "print(\"After handling the missing values in this column, there is no missing values in this column.\")"
   ]
  },
  {
   "cell_type": "markdown",
   "id": "028b41db",
   "metadata": {},
   "source": [
    "<h3><center>Checking The Missing Value in The Engine Cylinders Column</center></h3>"
   ]
  },
  {
   "cell_type": "code",
   "execution_count": 453,
   "id": "799e6ab6",
   "metadata": {},
   "outputs": [
    {
     "name": "stdout",
     "output_type": "stream",
     "text": [
      "There are 30 missing values in this column.\n"
     ]
    }
   ],
   "source": [
    "checking_missing_value_Engine_Cylinders = df[\"Engine Cylinders\"].isnull().sum()\n",
    "if checking_missing_value_Engine_Cylinders > 0:\n",
    "    print(\"There are \" + str(checking_missing_value_Engine_Cylinders) + \" missing values in this column.\")\n",
    "else:\n",
    "    print(\"There is no missing values in this column.\")"
   ]
  },
  {
   "cell_type": "code",
   "execution_count": 454,
   "id": "8f783b29",
   "metadata": {},
   "outputs": [
    {
     "name": "stdout",
     "output_type": "stream",
     "text": [
      "Here is the data that has a NaN value in the Engine Cylinders Column:\n"
     ]
    },
    {
     "data": {
      "text/plain": [
       "Car Brand   Model  \n",
       "Chevrolet   Bolt EV     2\n",
       "Mazda       RX-7        3\n",
       "            RX-8       17\n",
       "Mitsubishi  i-MiEV      3\n",
       "Toyota      RAV4 EV     1\n",
       "Volkswagen  e-Golf      4\n",
       "dtype: int64"
      ]
     },
     "execution_count": 454,
     "metadata": {},
     "output_type": "execute_result"
    }
   ],
   "source": [
    "print(\"Here is the data that has a NaN value in the Engine Cylinders Column:\")\n",
    "df_null_Engine_Cylinders = df.loc[df[\"Engine Cylinders\"].isnull()]\n",
    "df_null_Engine_Cylinders.groupby([\"Car Brand\", \"Model\"]).size()"
   ]
  },
  {
   "cell_type": "markdown",
   "id": "9e30f1c9",
   "metadata": {},
   "source": [
    "From the code above, the cars with missing values are **Chevrolet Bolt EV, Volkswagen E-Golf, Toyota Rav4 EV, Mazda RX-7, and Mazda RX-8**. \n",
    "<br>\n",
    "**Chevrolet Bolt EV, Volkswagen E-Golf, and Toyota Rav4 EV are electric cars**, so it **doesn't have cylinders**. Meanwhile, **Mazda RX-7 and Mazda RX-8 use two cylinders**. "
   ]
  },
  {
   "cell_type": "code",
   "execution_count": 455,
   "id": "978cd4c9",
   "metadata": {},
   "outputs": [
    {
     "name": "stdout",
     "output_type": "stream",
     "text": [
      "After handling the missing values in this column, there is no missing values in this column.\n"
     ]
    }
   ],
   "source": [
    "df[\"Engine Cylinders\"] = np.where((df[\"Engine Cylinders\"].isnull()) & \n",
    "                                  (df[\"Car Brand\"] == \"Mazda\") & \n",
    "                                  (df['Model'] == 'RX-7') |\n",
    "                                  (df['Model'] == 'RX-8'), 2, df[\"Engine Cylinders\"])\n",
    "\n",
    "df[\"Engine Cylinders\"] = np.where((df[\"Engine Cylinders\"].isnull()), 0, df[\"Engine Cylinders\"])\n",
    "\n",
    "\n",
    "checking_again_missing_value_Engine_Cylinders = df[\"Engine Cylinders\"].isnull().sum()\n",
    "if checking_again_missing_value_Engine_Cylinders > 0:\n",
    "    print(\"There still are \" + str(checking_again_missing_value_Engine_Cylinders) + \" missing values in this column.\")\n",
    "print(\"After handling the missing values in this column, there is no missing values in this column.\")"
   ]
  },
  {
   "cell_type": "markdown",
   "id": "41e9b4ee",
   "metadata": {},
   "source": [
    "<h3><center>Checking The Missing Value in The Transmission Type Column</center></h3>"
   ]
  },
  {
   "cell_type": "code",
   "execution_count": 456,
   "id": "6594e2e0",
   "metadata": {},
   "outputs": [
    {
     "name": "stdout",
     "output_type": "stream",
     "text": [
      "There is no missing values in this column.\n"
     ]
    }
   ],
   "source": [
    "checking_missing_value_Transmission_Type = df[\"Transmission Type\"].isnull().sum()\n",
    "if checking_missing_value_Transmission_Type > 0:\n",
    "    print(\"There are \" + str(checking_missing_value_Transmission_Type) + \" missing values in this column.\")\n",
    "else:\n",
    "    print(\"There is no missing values in this column.\")"
   ]
  },
  {
   "cell_type": "markdown",
   "id": "1a1aa722",
   "metadata": {},
   "source": [
    "<h3><center>Checking The Missing Value in The Driven Mode Column</center></h3>"
   ]
  },
  {
   "cell_type": "code",
   "execution_count": 457,
   "id": "819a1378",
   "metadata": {},
   "outputs": [
    {
     "name": "stdout",
     "output_type": "stream",
     "text": [
      "There is no missing values in this column.\n"
     ]
    }
   ],
   "source": [
    "checking_missing_value_Driven_Mode = df[\"Driven Mode\"].isnull().sum()\n",
    "if checking_missing_value_Driven_Mode > 0:\n",
    "    print(\"There are \" + str(checking_missing_value_Driven_Mode) + \" missing values in this column.\")\n",
    "else:\n",
    "    print(\"There is no missing values in this column.\")"
   ]
  },
  {
   "cell_type": "markdown",
   "id": "82e3e95b",
   "metadata": {},
   "source": [
    "<h3><center>Checking The Missing Value in The Number of Doors Column</center></h3>"
   ]
  },
  {
   "cell_type": "code",
   "execution_count": 458,
   "id": "a6963540",
   "metadata": {},
   "outputs": [
    {
     "name": "stdout",
     "output_type": "stream",
     "text": [
      "There are 6 missing values in this column.\n"
     ]
    }
   ],
   "source": [
    "checking_missing_value_Number_of_Doors = df[\"Number of Doors\"].isnull().sum()\n",
    "if checking_missing_value_Number_of_Doors > 0:\n",
    "    print(\"There are \" + str(checking_missing_value_Number_of_Doors) + \" missing values in this column.\")\n",
    "else:\n",
    "    print(\"There is no missing values in this column.\")"
   ]
  },
  {
   "cell_type": "code",
   "execution_count": 459,
   "id": "a02ce907",
   "metadata": {},
   "outputs": [
    {
     "name": "stdout",
     "output_type": "stream",
     "text": [
      "Here is the data that has a NaN value in the Number of Doors Column:\n"
     ]
    },
    {
     "data": {
      "text/plain": [
       "Car Brand  Model  \n",
       "Ferrari    FF         1\n",
       "Tesla      Model S    5\n",
       "dtype: int64"
      ]
     },
     "execution_count": 459,
     "metadata": {},
     "output_type": "execute_result"
    }
   ],
   "source": [
    "print(\"Here is the data that has a NaN value in the Number of Doors Column:\")\n",
    "df_null_Engine_Number_of_Doors = df.loc[df[\"Number of Doors\"].isnull()]\n",
    "df_null_Engine_Number_of_Doors.groupby([\"Car Brand\", \"Model\"]).size()"
   ]
  },
  {
   "cell_type": "markdown",
   "id": "5b85976f",
   "metadata": {},
   "source": [
    "The car with the missing values already mentioned above has a number of doors as follows:\n",
    "- Ferrari FF's number of doors are 2\n",
    "- Tesla Model S's number of doors is 4"
   ]
  },
  {
   "cell_type": "code",
   "execution_count": 460,
   "id": "cf9ea129",
   "metadata": {},
   "outputs": [
    {
     "name": "stdout",
     "output_type": "stream",
     "text": [
      "After handling the missing values in this column, there is no missing values in this column.\n"
     ]
    }
   ],
   "source": [
    "df[\"Number of Doors\"] = np.where((df[\"Number of Doors\"].isnull()) & \n",
    "                                  (df[\"Car Brand\"] == \"Tesla\") & \n",
    "                                  (df['Model'] == 'Model S'), 4, df[\"Number of Doors\"])\n",
    "\n",
    "df[\"Number of Doors\"] = np.where((df[\"Number of Doors\"].isnull()) & \n",
    "                                  (df[\"Car Brand\"] == \"Ferrari\") & \n",
    "                                  (df['Model'] == 'FF'), 2, df[\"Number of Doors\"])\n",
    "\n",
    "\n",
    "checking_again_missing_value_Number_of_Doors = df[\"Number of Doors\"].isnull().sum()\n",
    "if checking_again_missing_value_Number_of_Doors > 0:\n",
    "    print(\"There still are \" + str(checking_again_missing_value_Number_of_Doors) + \" missing values in this column.\")\n",
    "print(\"After handling the missing values in this column, there is no missing values in this column.\")"
   ]
  },
  {
   "cell_type": "markdown",
   "id": "62643c4f",
   "metadata": {},
   "source": [
    "<h3><center>Checking The Missing Value in The Market Category Column</center></h3>"
   ]
  },
  {
   "cell_type": "code",
   "execution_count": 461,
   "id": "e95d9a62",
   "metadata": {},
   "outputs": [
    {
     "name": "stdout",
     "output_type": "stream",
     "text": [
      "There are 3742 missing values in this column.\n"
     ]
    }
   ],
   "source": [
    "checking_missing_value_Market_Category = df[\"Market Category\"].isnull().sum()\n",
    "if checking_missing_value_Market_Category > 0:\n",
    "    print(\"There are \" + str(checking_missing_value_Market_Category) + \" missing values in this column.\")\n",
    "else:\n",
    "    print(\"There is no missing values in this column.\")"
   ]
  },
  {
   "cell_type": "code",
   "execution_count": 462,
   "id": "1385470c",
   "metadata": {},
   "outputs": [],
   "source": [
    "df = df.drop(['Market Category'], axis=1)"
   ]
  },
  {
   "cell_type": "code",
   "execution_count": 463,
   "id": "63b51f8f",
   "metadata": {},
   "outputs": [
    {
     "name": "stdout",
     "output_type": "stream",
     "text": [
      "<class 'pandas.core.frame.DataFrame'>\n",
      "RangeIndex: 11914 entries, 0 to 11913\n",
      "Data columns (total 15 columns):\n",
      " #   Column              Non-Null Count  Dtype  \n",
      "---  ------              --------------  -----  \n",
      " 0   Car Brand           11914 non-null  object \n",
      " 1   Model               11914 non-null  object \n",
      " 2   Year                11914 non-null  int64  \n",
      " 3   Engine Fuel Type    11914 non-null  object \n",
      " 4   Engine Horse Power  11914 non-null  float64\n",
      " 5   Engine Cylinders    11914 non-null  float64\n",
      " 6   Transmission Type   11914 non-null  object \n",
      " 7   Driven Mode         11914 non-null  object \n",
      " 8   Number of Doors     11914 non-null  float64\n",
      " 9   Vehicle Size        11914 non-null  object \n",
      " 10  Vehicle Style       11914 non-null  object \n",
      " 11  KML-H               11914 non-null  int64  \n",
      " 12  KML-C               11914 non-null  int64  \n",
      " 13  Popularity          11914 non-null  int64  \n",
      " 14  Price               11914 non-null  int64  \n",
      "dtypes: float64(3), int64(5), object(7)\n",
      "memory usage: 1.4+ MB\n"
     ]
    }
   ],
   "source": [
    "df.info()"
   ]
  },
  {
   "cell_type": "markdown",
   "id": "5bb73f76",
   "metadata": {},
   "source": [
    "<h3><center>Checking The Missing Value in The Vehicle Size Column</center></h3>"
   ]
  },
  {
   "cell_type": "code",
   "execution_count": 464,
   "id": "b82768a5",
   "metadata": {
    "scrolled": true
   },
   "outputs": [
    {
     "name": "stdout",
     "output_type": "stream",
     "text": [
      "There is no missing values in this column.\n"
     ]
    }
   ],
   "source": [
    "checking_missing_value_Vehicle_Size = df[\"Vehicle Size\"].isnull().sum()\n",
    "if checking_missing_value_Vehicle_Size > 0:\n",
    "    print(\"There are \" + str(checking_missing_value_Market_Category) + \" missing values in this column.\")\n",
    "else:\n",
    "    print(\"There is no missing values in this column.\")"
   ]
  },
  {
   "cell_type": "markdown",
   "id": "ec452746",
   "metadata": {},
   "source": [
    "<h3><center>Checking The Missing Value in The Vehicle Style Column</center></h3>"
   ]
  },
  {
   "cell_type": "code",
   "execution_count": 465,
   "id": "705e7816",
   "metadata": {},
   "outputs": [
    {
     "name": "stdout",
     "output_type": "stream",
     "text": [
      "There is no missing values in this column.\n"
     ]
    }
   ],
   "source": [
    "checking_missing_value_Vehicle_Style = df[\"Vehicle Style\"].isnull().sum()\n",
    "if checking_missing_value_Vehicle_Style > 0:\n",
    "    print(\"There are \" + str(checking_missing_value_Vehicle_Style) + \" missing values in this column.\")\n",
    "else:\n",
    "    print(\"There is no missing values in this column.\")"
   ]
  },
  {
   "cell_type": "markdown",
   "id": "306c9a3f",
   "metadata": {},
   "source": [
    "<h3><center>Checking The Missing Value in The KML-H Column</center></h3>"
   ]
  },
  {
   "cell_type": "code",
   "execution_count": 466,
   "id": "321e3c9d",
   "metadata": {},
   "outputs": [
    {
     "name": "stdout",
     "output_type": "stream",
     "text": [
      "There is no missing values in this column.\n"
     ]
    }
   ],
   "source": [
    "checking_missing_value_KML_H = df[\"KML-H\"].isnull().sum()\n",
    "if checking_missing_value_KML_H > 0:\n",
    "    print(\"There are \" + str(checking_missing_value_KML_H) + \" missing values in this column.\")\n",
    "else:\n",
    "    print(\"There is no missing values in this column.\")"
   ]
  },
  {
   "cell_type": "markdown",
   "id": "39dd8426",
   "metadata": {},
   "source": [
    "Changing the KML-H values, from mile per gallon to km per liter."
   ]
  },
  {
   "cell_type": "code",
   "execution_count": 467,
   "id": "cc85a367",
   "metadata": {},
   "outputs": [],
   "source": [
    "df['KML-H'] = df['KML-H'].apply(lambda x: round(x*0.425144))"
   ]
  },
  {
   "cell_type": "markdown",
   "id": "9e0598c6",
   "metadata": {},
   "source": [
    "<h3><center>Checking The Missing Value in The KML-C Column</center></h3>"
   ]
  },
  {
   "cell_type": "code",
   "execution_count": 468,
   "id": "5b6e81ad",
   "metadata": {},
   "outputs": [
    {
     "name": "stdout",
     "output_type": "stream",
     "text": [
      "There is no missing values in this column.\n"
     ]
    }
   ],
   "source": [
    "checking_missing_value_KML_C = df[\"KML-C\"].isnull().sum()\n",
    "if checking_missing_value_KML_C > 0:\n",
    "    print(\"There are \" + str(checking_missing_value_KML_C) + \" missing values in this column.\")\n",
    "else:\n",
    "    print(\"There is no missing values in this column.\")"
   ]
  },
  {
   "cell_type": "markdown",
   "id": "ddf08b92",
   "metadata": {},
   "source": [
    "Changing the KML-C values, from mile per gallon to km per liter."
   ]
  },
  {
   "cell_type": "code",
   "execution_count": 469,
   "id": "c9cca9ff",
   "metadata": {},
   "outputs": [],
   "source": [
    "df['KML-C'] = df['KML-C'].apply(lambda x: round(x*0.425144))"
   ]
  },
  {
   "cell_type": "markdown",
   "id": "27c853cd",
   "metadata": {},
   "source": [
    "<h3><center>Checking The Missing Value in The Popularity Column</center></h3>"
   ]
  },
  {
   "cell_type": "code",
   "execution_count": 470,
   "id": "6f0db895",
   "metadata": {},
   "outputs": [
    {
     "name": "stdout",
     "output_type": "stream",
     "text": [
      "There is no missing values in this column.\n"
     ]
    }
   ],
   "source": [
    "checking_missing_value_Popularity = df[\"Popularity\"].isnull().sum()\n",
    "if checking_missing_value_Popularity > 0:\n",
    "    print(\"There are \" + str(checking_missing_value_Popularity) + \" missing values in this column.\")\n",
    "else:\n",
    "    print(\"There is no missing values in this column.\")"
   ]
  },
  {
   "cell_type": "markdown",
   "id": "4f2bcca3",
   "metadata": {},
   "source": [
    "<h3><center>Checking The Missing Value in The Price Column</center></h3>"
   ]
  },
  {
   "cell_type": "code",
   "execution_count": 471,
   "id": "cd3a96fd",
   "metadata": {},
   "outputs": [
    {
     "name": "stdout",
     "output_type": "stream",
     "text": [
      "There is no missing values in this column.\n"
     ]
    }
   ],
   "source": [
    "checking_missing_value_Price = df[\"Price\"].isnull().sum()\n",
    "if checking_missing_value_Price > 0:\n",
    "    print(\"There are \" + str(checking_missing_value_Price) + \" missing values in this column.\")\n",
    "else:\n",
    "    print(\"There is no missing values in this column.\")"
   ]
  },
  {
   "cell_type": "markdown",
   "id": "7aa9eebc",
   "metadata": {},
   "source": [
    "<h2><center>Data Exploration</center></h2>"
   ]
  },
  {
   "cell_type": "code",
   "execution_count": 472,
   "id": "1c28bbaa",
   "metadata": {},
   "outputs": [
    {
     "data": {
      "text/html": [
       "<div>\n",
       "<style scoped>\n",
       "    .dataframe tbody tr th:only-of-type {\n",
       "        vertical-align: middle;\n",
       "    }\n",
       "\n",
       "    .dataframe tbody tr th {\n",
       "        vertical-align: top;\n",
       "    }\n",
       "\n",
       "    .dataframe thead th {\n",
       "        text-align: right;\n",
       "    }\n",
       "</style>\n",
       "<table border=\"1\" class=\"dataframe\">\n",
       "  <thead>\n",
       "    <tr style=\"text-align: right;\">\n",
       "      <th></th>\n",
       "      <th>Car Brand</th>\n",
       "      <th>Model</th>\n",
       "      <th>Year</th>\n",
       "      <th>Engine Fuel Type</th>\n",
       "      <th>Engine Horse Power</th>\n",
       "      <th>Engine Cylinders</th>\n",
       "      <th>Transmission Type</th>\n",
       "      <th>Driven Mode</th>\n",
       "      <th>Number of Doors</th>\n",
       "      <th>Vehicle Size</th>\n",
       "      <th>Vehicle Style</th>\n",
       "      <th>KML-H</th>\n",
       "      <th>KML-C</th>\n",
       "      <th>Popularity</th>\n",
       "      <th>Price</th>\n",
       "    </tr>\n",
       "  </thead>\n",
       "  <tbody>\n",
       "    <tr>\n",
       "      <th>0</th>\n",
       "      <td>BMW</td>\n",
       "      <td>1 Series M</td>\n",
       "      <td>2011</td>\n",
       "      <td>premium unleaded (required)</td>\n",
       "      <td>335.0</td>\n",
       "      <td>6.0</td>\n",
       "      <td>MANUAL</td>\n",
       "      <td>rear wheel drive</td>\n",
       "      <td>2.0</td>\n",
       "      <td>Compact</td>\n",
       "      <td>Coupe</td>\n",
       "      <td>11</td>\n",
       "      <td>8</td>\n",
       "      <td>3916</td>\n",
       "      <td>46135</td>\n",
       "    </tr>\n",
       "    <tr>\n",
       "      <th>1</th>\n",
       "      <td>BMW</td>\n",
       "      <td>1 Series</td>\n",
       "      <td>2011</td>\n",
       "      <td>premium unleaded (required)</td>\n",
       "      <td>300.0</td>\n",
       "      <td>6.0</td>\n",
       "      <td>MANUAL</td>\n",
       "      <td>rear wheel drive</td>\n",
       "      <td>2.0</td>\n",
       "      <td>Compact</td>\n",
       "      <td>Convertible</td>\n",
       "      <td>12</td>\n",
       "      <td>8</td>\n",
       "      <td>3916</td>\n",
       "      <td>40650</td>\n",
       "    </tr>\n",
       "    <tr>\n",
       "      <th>2</th>\n",
       "      <td>BMW</td>\n",
       "      <td>1 Series</td>\n",
       "      <td>2011</td>\n",
       "      <td>premium unleaded (required)</td>\n",
       "      <td>300.0</td>\n",
       "      <td>6.0</td>\n",
       "      <td>MANUAL</td>\n",
       "      <td>rear wheel drive</td>\n",
       "      <td>2.0</td>\n",
       "      <td>Compact</td>\n",
       "      <td>Coupe</td>\n",
       "      <td>12</td>\n",
       "      <td>9</td>\n",
       "      <td>3916</td>\n",
       "      <td>36350</td>\n",
       "    </tr>\n",
       "    <tr>\n",
       "      <th>3</th>\n",
       "      <td>BMW</td>\n",
       "      <td>1 Series</td>\n",
       "      <td>2011</td>\n",
       "      <td>premium unleaded (required)</td>\n",
       "      <td>230.0</td>\n",
       "      <td>6.0</td>\n",
       "      <td>MANUAL</td>\n",
       "      <td>rear wheel drive</td>\n",
       "      <td>2.0</td>\n",
       "      <td>Compact</td>\n",
       "      <td>Coupe</td>\n",
       "      <td>12</td>\n",
       "      <td>8</td>\n",
       "      <td>3916</td>\n",
       "      <td>29450</td>\n",
       "    </tr>\n",
       "    <tr>\n",
       "      <th>4</th>\n",
       "      <td>BMW</td>\n",
       "      <td>1 Series</td>\n",
       "      <td>2011</td>\n",
       "      <td>premium unleaded (required)</td>\n",
       "      <td>230.0</td>\n",
       "      <td>6.0</td>\n",
       "      <td>MANUAL</td>\n",
       "      <td>rear wheel drive</td>\n",
       "      <td>2.0</td>\n",
       "      <td>Compact</td>\n",
       "      <td>Convertible</td>\n",
       "      <td>12</td>\n",
       "      <td>8</td>\n",
       "      <td>3916</td>\n",
       "      <td>34500</td>\n",
       "    </tr>\n",
       "  </tbody>\n",
       "</table>\n",
       "</div>"
      ],
      "text/plain": [
       "  Car Brand       Model  Year             Engine Fuel Type  \\\n",
       "0       BMW  1 Series M  2011  premium unleaded (required)   \n",
       "1       BMW    1 Series  2011  premium unleaded (required)   \n",
       "2       BMW    1 Series  2011  premium unleaded (required)   \n",
       "3       BMW    1 Series  2011  premium unleaded (required)   \n",
       "4       BMW    1 Series  2011  premium unleaded (required)   \n",
       "\n",
       "   Engine Horse Power  Engine Cylinders Transmission Type       Driven Mode  \\\n",
       "0               335.0               6.0            MANUAL  rear wheel drive   \n",
       "1               300.0               6.0            MANUAL  rear wheel drive   \n",
       "2               300.0               6.0            MANUAL  rear wheel drive   \n",
       "3               230.0               6.0            MANUAL  rear wheel drive   \n",
       "4               230.0               6.0            MANUAL  rear wheel drive   \n",
       "\n",
       "   Number of Doors Vehicle Size Vehicle Style  KML-H  KML-C  Popularity  Price  \n",
       "0              2.0      Compact         Coupe     11      8        3916  46135  \n",
       "1              2.0      Compact   Convertible     12      8        3916  40650  \n",
       "2              2.0      Compact         Coupe     12      9        3916  36350  \n",
       "3              2.0      Compact         Coupe     12      8        3916  29450  \n",
       "4              2.0      Compact   Convertible     12      8        3916  34500  "
      ]
     },
     "execution_count": 472,
     "metadata": {},
     "output_type": "execute_result"
    }
   ],
   "source": [
    "df.head()"
   ]
  },
  {
   "cell_type": "markdown",
   "id": "83f4e1bd",
   "metadata": {},
   "source": [
    "<h3><center>Checking How Many Car Brand in The Dataset</center></h3>"
   ]
  },
  {
   "cell_type": "code",
   "execution_count": 473,
   "id": "b5f541f8",
   "metadata": {},
   "outputs": [
    {
     "name": "stdout",
     "output_type": "stream",
     "text": [
      "Here are the TOP TEN of Car Brands that exist in this dataset:\n"
     ]
    },
    {
     "data": {
      "text/plain": [
       "Car Brand\n",
       "Chevrolet     1123\n",
       "Ford           881\n",
       "Volkswagen     809\n",
       "Toyota         746\n",
       "Dodge          626\n",
       "Nissan         558\n",
       "GMC            515\n",
       "Honda          449\n",
       "Mazda          423\n",
       "Cadillac       397\n",
       "dtype: int64"
      ]
     },
     "execution_count": 473,
     "metadata": {},
     "output_type": "execute_result"
    }
   ],
   "source": [
    "print(\"Here are the TOP TEN of Car Brands that exist in this dataset:\")\n",
    "df_Car_Brand = df.groupby([\"Car Brand\"]).size().sort_values(ascending=False)\n",
    "df_Car_Brand.head(10)"
   ]
  },
  {
   "cell_type": "markdown",
   "id": "424ef84f",
   "metadata": {},
   "source": [
    "<h3><center>Checking How Many Car Brand With The Model in The Dataset</center></h3>"
   ]
  },
  {
   "cell_type": "code",
   "execution_count": 474,
   "id": "642f7d3c",
   "metadata": {},
   "outputs": [
    {
     "name": "stdout",
     "output_type": "stream",
     "text": [
      "Here are the TOP TEN of Car Brands with the Model that exist in this dataset:\n"
     ]
    },
    {
     "data": {
      "text/plain": [
       "Car Brand   Model             \n",
       "Chevrolet   Silverado 1500        156\n",
       "Toyota      Tundra                140\n",
       "Ford        F-150                 126\n",
       "GMC         Sierra 1500            90\n",
       "Volkswagen  Beetle Convertible     89\n",
       "Toyota      Tacoma                 80\n",
       "Nissan      Frontier               76\n",
       "Volkswagen  GTI                    76\n",
       "Honda       Accord                 75\n",
       "Volkswagen  Beetle                 75\n",
       "dtype: int64"
      ]
     },
     "execution_count": 474,
     "metadata": {},
     "output_type": "execute_result"
    }
   ],
   "source": [
    "print(\"Here are the TOP TEN of Car Brands with the Model that exist in this dataset:\")\n",
    "df_Car_Brand_Model = df.groupby([\"Car Brand\", \"Model\"]).size().sort_values(ascending=False)\n",
    "df_Car_Brand_Model.head(10)"
   ]
  },
  {
   "cell_type": "code",
   "execution_count": null,
   "id": "13e50975",
   "metadata": {},
   "outputs": [],
   "source": []
  }
 ],
 "metadata": {
  "kernelspec": {
   "display_name": "Python 3 (ipykernel)",
   "language": "python",
   "name": "python3"
  },
  "language_info": {
   "codemirror_mode": {
    "name": "ipython",
    "version": 3
   },
   "file_extension": ".py",
   "mimetype": "text/x-python",
   "name": "python",
   "nbconvert_exporter": "python",
   "pygments_lexer": "ipython3",
   "version": "3.9.13"
  }
 },
 "nbformat": 4,
 "nbformat_minor": 5
}
